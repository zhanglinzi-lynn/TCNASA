{
 "cells": [
  {
   "cell_type": "code",
   "execution_count": 1,
   "metadata": {},
   "outputs": [
    {
     "name": "stderr",
     "output_type": "stream",
     "text": [
      "/Users/zhanglinzi/anaconda3/lib/python3.7/site-packages/pandas/compat/_optional.py:138: UserWarning: Pandas requires version '2.7.0' or newer of 'numexpr' (version '2.6.8' currently installed).\n",
      "  warnings.warn(msg, UserWarning)\n"
     ]
    }
   ],
   "source": [
    "import torch\n",
    "import torch.nn as nn\n",
    "import numpy as np\n",
    "import matplotlib.pyplot as plt\n",
    "import torch.nn.functional as F"
   ]
  },
  {
   "cell_type": "code",
   "execution_count": 2,
   "metadata": {},
   "outputs": [],
   "source": [
    "convlayer = torch.nn.Conv1d(1,256,5)"
   ]
  },
  {
   "cell_type": "code",
   "execution_count": 3,
   "metadata": {},
   "outputs": [],
   "source": [
    "x = torch.randint(1,10,(1,20)).type(torch.float)"
   ]
  },
  {
   "cell_type": "code",
   "execution_count": 4,
   "metadata": {},
   "outputs": [
    {
     "name": "stdout",
     "output_type": "stream",
     "text": [
      "tensor([[8., 7., 9., 1., 4., 3., 6., 5., 4., 3., 1., 8., 6., 6., 4., 2., 4., 4.,\n",
      "         8., 3.]])\n"
     ]
    }
   ],
   "source": [
    "print(x)"
   ]
  },
  {
   "cell_type": "code",
   "execution_count": 5,
   "metadata": {},
   "outputs": [
    {
     "name": "stdout",
     "output_type": "stream",
     "text": [
      "torch.Size([1, 1, 20])\n"
     ]
    }
   ],
   "source": [
    "print(x.unsqueeze(0).shape)"
   ]
  },
  {
   "cell_type": "code",
   "execution_count": 6,
   "metadata": {},
   "outputs": [],
   "source": [
    "## CausalConv1d Block\n",
    "\n",
    "class CausalConv1d(torch.nn.Conv1d):\n",
    "    def __init__(self,\n",
    "                 in_channels,\n",
    "                 out_channels,\n",
    "                 kernel_size,\n",
    "                 stride=1,\n",
    "                 dilation=1,\n",
    "                 groups=1,\n",
    "                 bias=True):\n",
    "\n",
    "        super(CausalConv1d, self).__init__(\n",
    "            in_channels,\n",
    "            out_channels,\n",
    "            kernel_size=kernel_size,\n",
    "            stride=stride,\n",
    "            padding=0,\n",
    "            dilation=dilation,\n",
    "            groups=groups,\n",
    "            bias=bias)\n",
    "        \n",
    "        self.__padding = (kernel_size - 1) * dilation\n",
    "        \n",
    "    def forward(self, input):\n",
    "        return super(CausalConv1d, self).forward(F.pad(input, (self.__padding, 0)))"
   ]
  },
  {
   "cell_type": "code",
   "execution_count": 7,
   "metadata": {},
   "outputs": [],
   "source": [
    "## Dilated-casual CNN Architecture\n",
    "\n",
    "class DilatedCNN(nn.Module):\n",
    "    \n",
    "    def __init__(self,input_channels,output_channels,kernel_size):\n",
    "        super(DilatedCNN, self).__init__()\n",
    "\n",
    "        self.dil1 = CausalConv1d(in_channels=input_channels,out_channels=32,kernel_size=kernel_size,\n",
    "                                dilation=1)\n",
    "        self.dil2 = CausalConv1d(in_channels=32,out_channels=16,kernel_size=kernel_size,\n",
    "                                dilation=2)\n",
    "        self.dil3 = CausalConv1d(in_channels=16,out_channels=output_channels,kernel_size=kernel_size,\n",
    "                                dilation=4)\n",
    "        \n",
    "#         self.fc1 = nn.Linear(20,1)\n",
    "#         self.drop1 = nn.Dropout(0.2)\n",
    "#         self.fc2 = nn.Linear(8,1)\n",
    "    \n",
    "    def forward(self, x):\n",
    "        \n",
    "        # for predicting y0(y at timestep 0), we need to use\n",
    "        # x-value at the last timestep.\n",
    "#         x_now = x.clone()[:,:,-1]\n",
    "        x = torch.relu(self.dil1(x))\n",
    "        x = torch.relu(self.dil2(x))\n",
    "        x = torch.relu(self.dil3(x))\n",
    "    \n",
    "        \n",
    "#         x = x[:,:,-1]\n",
    "        # batch_size, features, time_steps -> batch_size, features\n",
    "        # take only the last timestep\n",
    "        \n",
    "#         x = torch.cat([x,x_now], axis=1)\n",
    "#         x = F.relu(self.fc1(x))\n",
    "#         x = self.drop1(x)\n",
    "#         x = self.fc2(x)\n",
    "\n",
    "        return x\n",
    "        "
   ]
  },
  {
   "cell_type": "code",
   "execution_count": 8,
   "metadata": {},
   "outputs": [],
   "source": [
    "input_channels=1\n",
    "output_channels=1\n",
    "kernel_size = 5"
   ]
  },
  {
   "cell_type": "code",
   "execution_count": 10,
   "metadata": {},
   "outputs": [],
   "source": [
    "convlayer = DilatedCNN(input_channels,output_channels,kernel_size)"
   ]
  },
  {
   "cell_type": "code",
   "execution_count": 11,
   "metadata": {},
   "outputs": [
    {
     "name": "stdout",
     "output_type": "stream",
     "text": [
      "torch.Size([1, 1, 20])\n",
      "tensor([[[0.0000, 0.0000, 0.0000, 0.0000, 0.0000, 0.0000, 0.0000, 0.0000,\n",
      "          0.0000, 0.0000, 0.0000, 0.0000, 0.2696, 0.3935, 0.2615, 0.0000,\n",
      "          0.3183, 0.3757, 0.4349, 0.0006]]], grad_fn=<ReluBackward0>)\n"
     ]
    }
   ],
   "source": [
    "print(convlayer(x.unsqueeze(0)).shape)\n",
    "print(convlayer(x.unsqueeze(0)))"
   ]
  },
  {
   "cell_type": "code",
   "execution_count": 18,
   "metadata": {},
   "outputs": [],
   "source": [
    "class context_embedding(torch.nn.Module):\n",
    "    def __init__(self,input_channels=1,embedding_size=256,k=5):\n",
    "        super(context_embedding,self).__init__()\n",
    "        self.dilated_causal_convolution = DilatedCNN(input_channels,embedding_size,kernel_size)\n",
    "\n",
    "    def forward(self,x):\n",
    "        x = self.dilated_causal_convolution(x)\n",
    "        return F.sigmoid(x)"
   ]
  },
  {
   "cell_type": "code",
   "execution_count": 19,
   "metadata": {},
   "outputs": [],
   "source": [
    "embedding = context_embedding(1,256,5)"
   ]
  },
  {
   "cell_type": "code",
   "execution_count": 20,
   "metadata": {},
   "outputs": [
    {
     "name": "stderr",
     "output_type": "stream",
     "text": [
      "/Users/zhanglinzi/anaconda3/lib/python3.7/site-packages/torch/nn/functional.py:1806: UserWarning: nn.functional.sigmoid is deprecated. Use torch.sigmoid instead.\n",
      "  warnings.warn(\"nn.functional.sigmoid is deprecated. Use torch.sigmoid instead.\")\n"
     ]
    },
    {
     "data": {
      "text/plain": [
       "torch.Size([1, 256, 20])"
      ]
     },
     "execution_count": 20,
     "metadata": {},
     "output_type": "execute_result"
    }
   ],
   "source": [
    "embedding(x.unsqueeze(0)).shape"
   ]
  },
  {
   "cell_type": "code",
   "execution_count": null,
   "metadata": {},
   "outputs": [],
   "source": []
  }
 ],
 "metadata": {
  "kernelspec": {
   "display_name": "Python [conda env:base]",
   "language": "python",
   "name": "base"
  },
  "language_info": {
   "codemirror_mode": {
    "name": "ipython",
    "version": 3
   },
   "file_extension": ".py",
   "mimetype": "text/x-python",
   "name": "python",
   "nbconvert_exporter": "python",
   "pygments_lexer": "ipython3",
   "version": "3.7.2"
  }
 },
 "nbformat": 4,
 "nbformat_minor": 4
}
