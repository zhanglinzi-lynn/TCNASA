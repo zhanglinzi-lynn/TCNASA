{
 "cells": [
  {
   "cell_type": "code",
   "execution_count": 1,
   "metadata": {},
   "outputs": [],
   "source": [
    "import torch\n",
    "import matplotlib.pyplot as plt\n",
    "import numpy as np"
   ]
  },
  {
   "cell_type": "code",
   "execution_count": 2,
   "metadata": {},
   "outputs": [],
   "source": [
    "from torch.utils.data import Dataset"
   ]
  },
  {
   "cell_type": "code",
   "execution_count": 47,
   "metadata": {},
   "outputs": [
    {
     "data": {
      "text/plain": [
       "torch.Size([100, 120])"
      ]
     },
     "execution_count": 47,
     "metadata": {},
     "output_type": "execute_result"
    }
   ],
   "source": [
    "torch.randn(dataset.fx.shape).shape"
   ]
  },
  {
   "cell_type": "code",
   "execution_count": 459,
   "metadata": {},
   "outputs": [],
   "source": [
    "import torch\n",
    "import matplotlib.pyplot as plt\n",
    "import numpy as np\n",
    "from torch.utils.data import Dataset\n",
    "\n",
    "\n",
    "class time_series_prepocess(Dataset):\n",
    "    \"\"\"A demo synthetic time series dataset for the experiments\"\"\"\n",
    "    \n",
    "    def __init__(self,t0=96,N=4500,transform=None):\n",
    "        \"\"\"\n",
    "        Args:\n",
    "            t0: the receptive field width of TCN\n",
    "            N: length of input sequence\n",
    "            transform: any transformations to be applied to time series\n",
    "        \"\"\"\n",
    "        self.t0 = t0\n",
    "        self.N = N\n",
    "        self.transform = None\n",
    "        \n",
    "        # time points\n",
    "        self.x = torch.cat(N*[torch.arange(0,t0+24).type(torch.float).unsqueeze(0)])\n",
    "\n",
    "        # sinuisoidal signal\n",
    "        A1,A2,A3 = 60 * torch.rand(3,N)\n",
    "        A4 = torch.max(A1,A2)        \n",
    "        self.fx = torch.cat([A1.unsqueeze(1)*torch.sin(np.pi*self.x[0,0:12]/6)+72 ,\n",
    "                        A2.unsqueeze(1)*torch.sin(np.pi*self.x[0,12:24]/6)+72 ,\n",
    "                        A3.unsqueeze(1)*torch.sin(np.pi*self.x[0,24:t0]/6)+72,\n",
    "                        A4.unsqueeze(1)*torch.sin(np.pi*self.x[0,t0:t0+24]/12)+72],1)\n",
    "        \n",
    "        # add noise\n",
    "        self.fx = self.fx + torch.randn(self.fx.shape)\n",
    "        \n",
    "        self.masks = self._generate_square_subsequent_mask(t0)\n",
    "                \n",
    "        \n",
    "        # print out shapes to confirm desired output\n",
    "        print(\"x: {}*{}\".format(*list(self.x.shape)),\n",
    "              \"fx: {}*{}\".format(*list(self.fx.shape)))        \n",
    "        \n",
    "    def __len__(self):\n",
    "        return len(self.fx)\n",
    "    \n",
    "    def __getitem__(self,idx):\n",
    "        if torch.is_tensor(idx):\n",
    "            idx = idx.tolist()\n",
    "            \n",
    "        \n",
    "        sample = (self.x[idx,:],\n",
    "                  self.fx[idx,:],\n",
    "                  self.masks)\n",
    "        \n",
    "        if self.transform:\n",
    "            sample=self.transform(sample)\n",
    "            \n",
    "        return sample\n",
    "    \n",
    "    def _generate_square_subsequent_mask(self,t0):\n",
    "        mask = torch.zeros(t0+24,t0+24)\n",
    "        for i in range(0,t0):\n",
    "            mask[i,t0:] = 1 \n",
    "        for i in range(t0,t0+24):\n",
    "            mask[i,i+1:] = 1\n",
    "        mask = mask.float().masked_fill(mask == 1, float('-inf'))#.masked_fill(mask == 1, float(0.0))\n",
    "        return mask"
   ]
  }
 ],
 "metadata": {
  "kernelspec": {
   "display_name": "Python 3",
   "language": "python",
   "name": "python3"
  },
  "language_info": {
   "codemirror_mode": {
    "name": "ipython",
    "version": 3
   },
   "file_extension": ".py",
   "mimetype": "text/x-python",
   "name": "python",
   "nbconvert_exporter": "python",
   "pygments_lexer": "ipython3",
   "version": "3.7.2"
  }
 },
 "nbformat": 4,
 "nbformat_minor": 4
}
